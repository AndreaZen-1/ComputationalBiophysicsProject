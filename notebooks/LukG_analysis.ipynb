{
 "cells": [
  {
   "cell_type": "markdown",
   "metadata": {},
   "source": [
    "## LukG preproduction analysis"
   ]
  },
  {
   "cell_type": "code",
   "execution_count": null,
   "metadata": {},
   "outputs": [],
   "source": [
    "# -- IMPORTS --\n",
    "# - mdanalysis -\n",
    "import MDAnalysis as mda\n",
    "from MDAnalysis.lib import distances\n",
    "from MDAnalysis.analysis.rms import RMSD, rmsd, RMSF\n",
    "from MDAnalysis.analysis import diffusionmap\n",
    "from pathlib import Path\n",
    "\n",
    "# - plotting -\n",
    "import matplotlib.pyplot as plt\n",
    "import plotly.express as px\n",
    "import plotly.graph_objects as go\n",
    "import plotly.io\n",
    "from plotly.subplots import make_subplots\n",
    "import plotly.figure_factory as ff\n",
    "\n",
    "# - clustering -\n",
    "from scipy.cluster.hierarchy import dendrogram, linkage, fcluster\n",
    "from sklearn.cluster import AgglomerativeClustering\n",
    "from collections import Counter\n",
    "\n",
    "# - general -\n",
    "import numpy as np\n",
    "import pandas as pd\n",
    "import pickle\n",
    "import math"
   ]
  },
  {
   "cell_type": "markdown",
   "metadata": {},
   "source": [
    "### Import files "
   ]
  },
  {
   "cell_type": "code",
   "execution_count": null,
   "metadata": {},
   "outputs": [],
   "source": [
    "# -- Make UNIVERSES --\n",
    "# data/gromacs/\n",
    "simdir = Path(\"../data/\")\n",
    "rdir = simdir / \"gromacs/\" # here are the results of analyses made with gromacs\n",
    "\n",
    "#imdir = Path(\"../figures/\")\n",
    "imdir = Path(\"../figures/png_figs/\")\n",
    "\n",
    "lukG_GRO = simdir/ 'lukG.gro'\n",
    "\n",
    "lukG_XTC = simdir /'trajectory_noPBC.xtc'\n",
    "\n",
    "lukG_XTC_al = simdir / 'trajectory_noPBC_alignedCA.xtc'\n",
    "\n",
    "#the topology file contains a list of atoms (gromacs gro in our case)\n",
    "#the trajectory file provides coordinates that are ordered in the same way as the list of atoms in the topology (MD trajectory Gromacs XTC)"
   ]
  },
  {
   "cell_type": "markdown",
   "metadata": {},
   "source": [
    "The trajectory `trajectory_noPBC.xtc` was made with gromacs <i>trjconv</i> with the command: <br>\n",
    "```gmx trjconv -s step7_final.tpr -f step7_final.xtc -pbc mol -center -o trajectory_noPBC.xtc```<br>\n",
    "<br>\n",
    "The trajectory `trajectory_noPBC_alignedCA.xtc` is the same as the previous, but aligned over the Alpha Carbons with MDAnalysis <i>AlignTraj</i>. <br>\n",
    "You can see how a few blocks below. "
   ]
  },
  {
   "cell_type": "markdown",
   "metadata": {},
   "source": [
    "### Check trajectory INFO"
   ]
  },
  {
   "cell_type": "code",
   "execution_count": null,
   "metadata": {},
   "outputs": [],
   "source": [
    "# load the simple universe, NOT aligned.\n",
    "lukG = mda.Universe(str(lukG_GRO), str(lukG_XTC))\n",
    "\n",
    "print(\"The number of frames is\", lukG.trajectory.n_frames)\n",
    "#print(lukG.select_atoms(\"protein\").residues)\n",
    "print(\"The number of residues is\", len(lukG.select_atoms(\"protein\").residues))\n",
    "\n",
    "#lukG.atoms.dimensions\n",
    "\n",
    "# Also check the same info in the aligned trajectory\n",
    "lukG_al = mda.Universe(str(lukG_GRO), str(lukG_XTC_al))\n",
    "print(\"[aligned] The number of frames is\", lukG_al.trajectory.n_frames)\n",
    "print(\"[aligned] The number of residues is\", len(lukG_al.select_atoms(\"protein\").residues))"
   ]
  },
  {
   "cell_type": "code",
   "execution_count": null,
   "metadata": {},
   "outputs": [],
   "source": [
    "# We can see that the counting of the aminoacids starts at 32 and ends at 338\n",
    "lukG_al.select_atoms(\"protein\").residues[0], lukG_al.select_atoms(\"protein\").residues[-1]\n",
    "\n",
    "# Giving us a total of 307 aminoacids in the protein"
   ]
  },
  {
   "cell_type": "code",
   "execution_count": null,
   "metadata": {},
   "outputs": [],
   "source": [
    "# We used this function to only make the images for the report,\n",
    "# only if they were not already present in the figures folder\n",
    "# imdir = Path(\"../figures/\")\n",
    "\n",
    "def make_image(fig_obj, output_name):\n",
    "    # check if image exists with output_name\n",
    "    if (imdir / str(output_name + '.png')).exists():\n",
    "        return None #\"Image already exists, skipping!\"\n",
    "  \n",
    "    else:\n",
    "        return plotly.io.write_image(fig_obj, str(imdir / output_name) + '.png', format='png')\n",
    "\n",
    "# dummy func so that you don't save images\n",
    "# def make_image(fig_obj, output_name):\n",
    "#     return None"
   ]
  },
  {
   "cell_type": "markdown",
   "metadata": {},
   "source": [
    "### Density plot\n",
    "To build this plot we used three commands with gromacs, to compute each one of the files that are being read in the first three lines (variables `popc`, `prot`, and `tipp`). <br>\n",
    "Specifically, we used the command:\n",
    "```\n",
    "gmx_mpi density -f trajectory_noPBC_alignedCA.xtc -s step7_final.tpr -o density.xvg\n",
    "```\n",
    "And selected the groups of atoms we were interested in: Protein [1], Water/TIP3 [17], Membrane/POPC [14]."
   ]
  },
  {
   "cell_type": "code",
   "execution_count": null,
   "metadata": {
    "scrolled": false
   },
   "outputs": [],
   "source": [
    "# import the data\n",
    "popc = np.genfromtxt(rdir / \"density/POPC_density.xvg\", usecols = (0,1), skip_header = 24)\n",
    "prot = np.genfromtxt(rdir / \"density/protein_density.xvg\", usecols = (0,1), skip_header = 24)\n",
    "tipp = np.genfromtxt(rdir / \"density/TIP3_density.xvg\", usecols = (0,1), skip_header = 24)\n",
    "\n",
    "# plot\n",
    "fig = go.Figure()\n",
    "fig.add_trace(go.Line(x = tipp[:,0], y = tipp[:,1], name = \"TIP3\"))\n",
    "fig.add_trace(go.Line(x = prot[:,0], y = prot[:,1], name = \"Protein\"))\n",
    "fig.add_trace(go.Line(x = popc[:,0], y = popc[:,1], name = \"POPC\"))\n",
    "\n",
    "\n",
    "fig.update_layout(title={'text':\"Density plot of LukG\",\n",
    "                         'x':0.5,\n",
    "                         'y':0.88,\n",
    "                         'xanchor':'center',\n",
    "                         'yanchor':'top'},\n",
    "                  xaxis = {'title': \"z axis [nm]\"},\n",
    "                  yaxis = {'title': \"density [Kg / m³]\"})\n",
    "\n",
    "\n",
    "\n",
    "fig.show()\n",
    "make_image(fig, \"density_plot\")"
   ]
  },
  {
   "cell_type": "markdown",
   "metadata": {},
   "source": [
    "### PCA"
   ]
  },
  {
   "cell_type": "code",
   "execution_count": null,
   "metadata": {},
   "outputs": [],
   "source": [
    "#rec_pca = PCA(lukG_al, select = 'name CA').run()\n",
    "\n",
    "# Run only if there isn't a pcadata file, and make it.\n",
    "# if present, load it\n",
    "if not (simdir / \"pcadata.pickle\").exists():\n",
    "    rec_pca = PCA(lukG_al, select = 'name CA').run()\n",
    "   \n",
    "    with open(simdir / \"pcadata.pickle\", \"wb\") as outf:\n",
    "        pickle.dump(rec_pca, outf)\n",
    "else:\n",
    "    with open(simdir / \"pcadata.pickle\", \"rb\") as infile:\n",
    "        rec_pca = pickle.load(infile)\n",
    "\n",
    "\n",
    "# limiting the analysis to the first i components for a clearer graph\n",
    "i = 20\n",
    "\n",
    "#xdata = np.arange(rec_pca.cumulated_variance.shape[0])\n",
    "xdata = np.arange(i)\n",
    "ydata = rec_pca.cumulated_variance\n",
    "\n",
    "fig = go.Figure()\n",
    "fig.add_trace(go.Scatter(x = xdata, y = ydata[:i],\n",
    "                         mode = 'lines+markers'))\n",
    "\n",
    "fig.update_layout(title={'text':\"PCA analysis\",\n",
    "                         'x':0.5,\n",
    "                         'y':0.87,\n",
    "                         'xanchor':'center',\n",
    "                         'yanchor':'top'},\n",
    "                  xaxis_title=\"Components\",\n",
    "                  yaxis_title=\"Cumulated variance explained\")\n",
    "\n",
    "fig.show()\n",
    "make_image(fig, \"pca_cumulated_variance\")"
   ]
  },
  {
   "cell_type": "code",
   "execution_count": null,
   "metadata": {},
   "outputs": [],
   "source": []
  },
  {
   "cell_type": "code",
   "execution_count": null,
   "metadata": {},
   "outputs": [],
   "source": [
    "#pca_space = rec_pca.transform(lukG_al.select_atoms(\"name CA\"),3)\n",
    "\n",
    "# save pca_space, it takes a while to compute\n",
    "if not (simdir / \"pcaspace.pickle\").exists():\n",
    "    pca_space = rec_pca.transform(lukG_al.select_atoms(\"name CA\"),3)\n",
    "   \n",
    "    with open(simdir / \"pcaspace.pickle\", \"wb\") as outf:\n",
    "        pickle.dump(pca_space, outf)\n",
    "else:\n",
    "    with open(simdir / \"pcaspace.pickle\", \"rb\") as infile:\n",
    "        pca_space = pickle.load(infile)\n",
    "\n",
    "\n",
    "pca_data = pd.DataFrame(pca_space, columns = ['first_comp', 'second_comp', 'third_comp'])\n",
    "\n",
    "fig = px.scatter_3d(pca_data, x = 'first_comp', y = 'second_comp', z = 'third_comp',\n",
    "                   color = pca_data.index.values)\n",
    "\n",
    "fig.update_traces(marker_size = 2)\n",
    "\n",
    "# change zoom and angle of the view\n",
    "fig.update_layout(scene_camera = dict( eye = dict(\n",
    "                  x = 1.8,\n",
    "                  y = 1.5,\n",
    "                  z = 0.5))\n",
    "                 )\n",
    "fig.show()\n",
    "make_image(fig, \"pca_scatter\")"
   ]
  },
  {
   "cell_type": "markdown",
   "metadata": {},
   "source": [
    "We also wanted to observe only the last second half of the trajectory in the reduced PCA space, so we decided to plot the last 3000 frames:"
   ]
  },
  {
   "cell_type": "code",
   "execution_count": null,
   "metadata": {},
   "outputs": [],
   "source": [
    "fig = px.scatter_3d(pca_data[3000:], x = 'first_comp', y = 'second_comp', z = 'third_comp',\n",
    "                   color = pca_data.index.values[3000:])\n",
    "\n",
    "fig.update_traces(marker_size = 2)\n",
    "\n",
    "# change zoom and angle of the view\n",
    "fig.update_layout(scene_camera = dict( eye = dict(\n",
    "                  x = 1.8,\n",
    "                  y = 1.5,\n",
    "                  z = 0.5))\n",
    "                 )\n",
    "fig.show()\n",
    "\n",
    "make_image(fig, \"pca_scatter_secondhalf\")"
   ]
  },
  {
   "cell_type": "markdown",
   "metadata": {},
   "source": [
    "### Calculate RMSD before and after the alignment\n",
    "Here we are only computing the RMSD between the first and last frame of the trajectory, to check that the alignment actually reduces this value as it should."
   ]
  },
  {
   "cell_type": "code",
   "execution_count": null,
   "metadata": {},
   "outputs": [],
   "source": [
    "# Function to compute simple rmsd between two frames\n",
    "def test_rmsd(trj1, trj2):\n",
    "    \"\"\"Tests rmsd between the first frame of trj1 and last of trj2\"\"\"\n",
    "    trj1.trajectory[0]\n",
    "    trj2.trajectory[-1]\n",
    "    \n",
    "    t1_ca = trj1.select_atoms(\"name CA\")\n",
    "    t2_ca = trj2.select_atoms(\"name CA\")\n",
    "    \n",
    "    return rmsd(t1_ca.positions, t2_ca.positions, superposition=False)\n"
   ]
  },
  {
   "cell_type": "code",
   "execution_count": null,
   "metadata": {},
   "outputs": [],
   "source": [
    "# Let's try on the NON ALIGNED trajectory\n",
    "lukG = mda.Universe(str(lukG_GRO), str(lukG_XTC))\n",
    "ref = mda.Universe(str(lukG_GRO), str(lukG_XTC))\n",
    "\n",
    "print(test_rmsd(lukG, ref))"
   ]
  },
  {
   "cell_type": "markdown",
   "metadata": {},
   "source": [
    "Now we can align the trajectory to itself in the first frame (res)."
   ]
  },
  {
   "cell_type": "code",
   "execution_count": null,
   "metadata": {},
   "outputs": [],
   "source": [
    "# No need to re-run this block every time.\n",
    "# Only run if the file doesn't exist in the ../data/ directory\n",
    "if not (simdir / \"trajectory_noPBC_alignedCA.xtc\").exists():\n",
    "    from MDAnalysis.analysis import align\n",
    "\n",
    "    lukG = mda.Universe(str(lukG_GRO), str(lukG_XTC))\n",
    "    ref = mda.Universe(str(lukG_GRO), str(lukG_XTC))\n",
    "\n",
    "    aligner = align.AlignTraj(lukG, ref, select = 'name CA',\n",
    "                    filename = '../data/trajectory_noPBC_alignedCA.xtc').run()\n",
    "    \n",
    "    # load a new universe with this trajectory\n",
    "    lukG_al = mda.Universe(str(lukG_GRO), str(lukG_XTC_al))\n",
    "    \n",
    "else:\n",
    "    print(\"Aligned trajectory already exists, skipping...\")"
   ]
  },
  {
   "cell_type": "markdown",
   "metadata": {},
   "source": [
    "Then we can check if the RMSD changed. <br>\n",
    "We can also see if the two different alignments give different results. <br>\n",
    "Specifically, we expect a decreased RMSD, thanks to the alignment."
   ]
  },
  {
   "cell_type": "code",
   "execution_count": null,
   "metadata": {},
   "outputs": [],
   "source": [
    "# reload the new aligned trajectories, and the reference\n",
    "lukG_al = mda.Universe(str(lukG_GRO), str(lukG_XTC_al))\n",
    "ref = mda.Universe(str(lukG_GRO), str(lukG_XTC_al))\n",
    "\n",
    "# NOTE: even if we are loading only the aligned version, the first frame is the same between the two.\n",
    "\n",
    "# print rmsd between first and last frame\n",
    "print(test_rmsd(lukG_al, ref))"
   ]
  },
  {
   "cell_type": "markdown",
   "metadata": {},
   "source": [
    "We can see that the RMSD diminished by a lot."
   ]
  },
  {
   "cell_type": "markdown",
   "metadata": {},
   "source": [
    "### RMSD of the whole trajectory with a single frame as reference"
   ]
  },
  {
   "cell_type": "code",
   "execution_count": null,
   "metadata": {},
   "outputs": [],
   "source": [
    "# If possible, load from memory\n",
    "if not (simdir / \"rmsd.pickle\").exists():\n",
    "    # reload the universes\n",
    "    lukG = mda.Universe(str(lukG_GRO), str(lukG_XTC))\n",
    "    lukG_al = mda.Universe(str(lukG_GRO), str(lukG_XTC_al))\n",
    "\n",
    "    # run the Rmsd over lukG_al with first frame of lukG_al as reference\n",
    "    rmsd_arr2 = RMSD(lukG_al.select_atoms(\"name CA\"), lukG_al.select_atoms(\"name CA\")).run()\n",
    "\n",
    "    # make a pandas dataframe of the data for ease of use\n",
    "    rmsd_df =  pd.DataFrame(rmsd_arr2.rmsd, columns=['idx','time','CA'])\n",
    "   \n",
    "    with open(simdir / \"rmsd.pickle\", \"wb\") as outf:\n",
    "        pickle.dump(rmsd_df, outf)\n",
    "else:\n",
    "    with open(simdir / \"rmsd.pickle\", \"rb\") as infile:\n",
    "        rmsd_df = pickle.load(infile)"
   ]
  },
  {
   "cell_type": "code",
   "execution_count": null,
   "metadata": {
    "scrolled": false
   },
   "outputs": [],
   "source": [
    "# plot the RMSD values\n",
    "y = rmsd_df[\"CA\"]\n",
    "x = rmsd_df[\"idx\"]\n",
    "\n",
    "fig = px.line(x = x, y = y,\n",
    "              labels={\n",
    "                  'x':'Frame number',\n",
    "                  'y':'RMSD value [Å]'\n",
    "                  })\n",
    "\n",
    "# Set title and position\n",
    "fig.update_layout(\n",
    "    title={\n",
    "        'text':\"LukG RMSD analysis, CA aligned\",\n",
    "        'x':0.5,\n",
    "        'y':0.95,\n",
    "        'xanchor':'center',\n",
    "        'yanchor':'top'\n",
    "    })\n",
    "\n",
    "fig.show()\n",
    "make_image(fig, \"rmsd_plot\")"
   ]
  },
  {
   "cell_type": "markdown",
   "metadata": {},
   "source": [
    "### Block Analysis\n",
    "We implemented a Block analysis to understand how we could implement a faster RMSD Matrix while keeping the information of our system."
   ]
  },
  {
   "cell_type": "code",
   "execution_count": null,
   "metadata": {},
   "outputs": [],
   "source": [
    "# Find the total number of frames\n",
    "n_frames = lukG_al.trajectory.n_frames\n",
    "\n",
    "# range 2 -> 3000\n",
    "nran = np.arange(2, n_frames//2+1)\n",
    "\n",
    "# array of the remainders between nframes and nran\n",
    "divisionRest = (n_frames-1) % nran\n",
    "\n",
    "# we only keep the perfect dividors\n",
    "# so here we have a list of the number of frames\n",
    "# we will use in each block, for each block analysis\n",
    "frames_x_block = nran[np.where(divisionRest == 0)]\n",
    "\n",
    "# in one line\n",
    "#frames_x_block_v2 = [x for x in np.arange(2, n_frames//2+1) if (n_frames-1)%x == 0]"
   ]
  },
  {
   "cell_type": "code",
   "execution_count": null,
   "metadata": {},
   "outputs": [],
   "source": [
    "# Get the references for index and time\n",
    "idx_ref = rmsd_df.idx.values[1]\n",
    "time_ref = rmsd_df.time.values[1]\n",
    "\n",
    "# Set the empty variables\n",
    "Nc_val = []\n",
    "Time_val = []\n",
    "RMSD_val = []\n",
    "\n",
    "for i in frames_x_block:\n",
    "    Nc = n_frames//i\n",
    "    Nc_val.append(Nc)\n",
    "    # splits the rmsd data in as many sub-arrays as Nc\n",
    "    splits = np.array_split(rmsd_df.CA.values[0:6000], Nc)\n",
    "    \n",
    "    splits_avg = np.sum(splits, axis = 1)/i\n",
    "    splits_RMSD = np.std(splits_avg, dtype=np.float64)\n",
    "    \n",
    "    RMSD_val.append(splits_RMSD)\n",
    "    Time_val.append(Nc*time_ref/idx_ref)\n"
   ]
  },
  {
   "cell_type": "code",
   "execution_count": null,
   "metadata": {},
   "outputs": [],
   "source": [
    "print(\"M Values: {}\".format(frames_x_block))\n",
    "print(\"\\nNc Values: {}\".format(Nc_val))\n",
    "print(\"\\nTime Values: {}\".format(Time_val))\n",
    "print(\"\\nRMSD Values: {}\".format(RMSD_val))"
   ]
  },
  {
   "cell_type": "code",
   "execution_count": null,
   "metadata": {},
   "outputs": [],
   "source": [
    "# plotting the Block Analysis\n",
    "fig = go.Figure()\n",
    "\n",
    "# removed last 5 entries for clarity (values are descending)\n",
    "fig.add_trace(go.Scatter(x = Nc_val[6:],\n",
    "                         y = RMSD_val[6:],\n",
    "                         mode = 'lines+markers'))\n",
    "\n",
    "# Set title and position\n",
    "fig.update_layout(\n",
    "    title={\n",
    "        'text':\"Block Analysis: CA\",\n",
    "        'x':0.5,\n",
    "        'y':0.89,\n",
    "        'xanchor':'center',\n",
    "        'yanchor':'top'\n",
    "    }, \n",
    "    xaxis_title = \"Blocks (Nc)\",\n",
    "    yaxis_title = \"RMSD Values\")\n",
    "\n",
    "\n",
    "fig.show()\n",
    "make_image(fig, \"block_analysis_plot\")"
   ]
  },
  {
   "cell_type": "markdown",
   "metadata": {},
   "source": [
    "### RMSD - MATRIX\n",
    "We then compute the RMSD matrix using a frame every 15, as they should be uncorrelated. <br>\n",
    "Check these links: <br>\n",
    "- [blog_help](https://groups.google.com/g/mdnalysis-discussion/c/1iBwPqaAGLg?pli=1)\n",
    "- [MDA_manual](https://userguide.mdanalysis.org/stable/examples/analysis/alignment_and_rms/pairwise_rmsd.html)"
   ]
  },
  {
   "cell_type": "code",
   "execution_count": null,
   "metadata": {},
   "outputs": [],
   "source": [
    "# Load a new universe with a subset of frames \n",
    "\n",
    "# restricted universe every n frames\n",
    "# for in_memory_step to work, in_memory MUST BE == True!!\n",
    "n = 15\n",
    "u_clst = mda.Universe(str(lukG_GRO), str(lukG_XTC_al), in_memory = True, in_memory_step =  n)"
   ]
  },
  {
   "cell_type": "code",
   "execution_count": null,
   "metadata": {
    "scrolled": true
   },
   "outputs": [],
   "source": [
    "# test of diffusionmap for pairwise RMSD of trj with itself\n",
    "# this computes the matrix in an optimized way.\n",
    "# (we could probably take even more frames than 1 every 15 and still\n",
    "# run this in a reasonable amount of time ~minutes)\n",
    "rmsd_matrix = diffusionmap.DistanceMatrix(u_clst, select='name CA').run()"
   ]
  },
  {
   "cell_type": "code",
   "execution_count": null,
   "metadata": {},
   "outputs": [],
   "source": [
    "# Plot the resulting matrix\n",
    "\n",
    "prmsd_fig = px.imshow(rmsd_matrix.results.dist_matrix, aspect = 'equal')\n",
    "\n",
    "prmsd_fig.update_layout(title={\n",
    "        'text':\"RMSD Matrix\",\n",
    "        'x':0.5,\n",
    "        'xanchor':'center',\n",
    "        'yanchor':'top'\n",
    "    }, \n",
    "    xaxis_title = \"Frame number\",\n",
    "    yaxis_title = \"Frame number\")\n",
    "\n",
    "prmsd_fig.show()\n",
    "\n",
    "make_image(prmsd_fig, \"rmsd_matrix_plot\")"
   ]
  },
  {
   "cell_type": "markdown",
   "metadata": {},
   "source": [
    "We want to check that this is an actual pairwise implementation of the RMSD by extracting the data regarding all frames vs. first frame (as we did previously in the RMSD blocks), and plotting them together."
   ]
  },
  {
   "cell_type": "code",
   "execution_count": null,
   "metadata": {},
   "outputs": [],
   "source": [
    "# Extract the relevant data\n",
    "m_arr = rmsd_matrix.dist_matrix[1, :]\n",
    "\n",
    "# Scale the data from the pairwise, as it is 1 frame every 15\n",
    "# scale = 6001 / 401\n",
    "\n",
    "fig = go.Figure()\n",
    "\n",
    "fig.add_trace(go.Line(y = rmsd_df.iloc[:,2], opacity = 0.2, name = \"Single RMSD\"))\n",
    "fig.add_trace(go.Line(y = m_arr, x = (x * (6001 / 401)), name = \"Pairwise-RMSD\"))\n",
    "\n",
    "fig.update_layout(title={\n",
    "        'text':\"RMSD vs Pairwise-RMSD\",\n",
    "        'x':0.5,\n",
    "        'xanchor':'center',\n",
    "        'yanchor':'top'\n",
    "    }, \n",
    "    xaxis_title = \"Frame number\",\n",
    "    yaxis_title = \"RMSD value [Å]\")\n",
    "\n",
    "fig.show()\n",
    "make_image(fig, \"rmsd_vs_singlePairwise\")"
   ]
  },
  {
   "cell_type": "markdown",
   "metadata": {},
   "source": [
    "As expected, the Pairwise-RMSD data is smoother (as some points are omitted), but we can see that it closely resembles the Single RMSD data we previously computed."
   ]
  },
  {
   "cell_type": "markdown",
   "metadata": {},
   "source": [
    "### Hierarchical clustering "
   ]
  },
  {
   "cell_type": "code",
   "execution_count": null,
   "metadata": {},
   "outputs": [],
   "source": [
    "# We tested different linkage measures\n",
    "#Z = linkage(rmsd_matrix.dist_matrix, 'average')\n",
    "#Z = linkage(rmsd_matrix.dist_matrix, 'weighted')\n",
    "Z = linkage(rmsd_matrix.dist_matrix, 'ward')\n",
    "\n",
    "X = dendrogram(Z)\n",
    "\n",
    "fig = ff.create_dendrogram(Z)\n",
    "\n",
    "fig.update_layout(width=900, height=600)\n",
    "fig.show()\n",
    "\n",
    "make_image(fig, \"dendrogram_image\")"
   ]
  },
  {
   "cell_type": "markdown",
   "metadata": {},
   "source": [
    "### RMSF "
   ]
  },
  {
   "cell_type": "code",
   "execution_count": null,
   "metadata": {},
   "outputs": [],
   "source": [
    "if not (simdir / \"rmsf.pickle\").exists():\n",
    "    ca_atoms = lukG_al.select_atoms(\"protein and name CA\") # this is the AtomGroup\n",
    "    myRMSF = RMSF(ca_atoms).run()\n",
    "   \n",
    "    with open(simdir / \"rmsf.pickle\", \"wb\") as outf:\n",
    "        pickle.dump(myRMSF, outf)\n",
    "else:\n",
    "    with open(simdir / \"rmsf.pickle\", \"rb\") as infile:\n",
    "        myRMSF = pickle.load(infile)\n"
   ]
  },
  {
   "cell_type": "code",
   "execution_count": null,
   "metadata": {
    "scrolled": false
   },
   "outputs": [],
   "source": [
    "data = myRMSF.rmsf\n",
    "x = np.arange(len(data))\n",
    "\n",
    "fig = px.line(x = x, y = data, \n",
    "              labels={'x':\"Residue index\",\n",
    "                      'y':\"RMSF value [Å]\"}\n",
    "             )\n",
    "\n",
    "# Set title and position\n",
    "fig.update_layout(\n",
    "    title={\n",
    "        'text':\"LukG RMSF analysis\",\n",
    "        'x':0.5,\n",
    "        'y':0.95,\n",
    "        'xanchor':'center',\n",
    "        'yanchor':'top'\n",
    "    })\n",
    "\n",
    "# Add colorful bars :)\n",
    "\n",
    "orange = \"#FF681F\"\n",
    "seagreen = \"#2E8B57\"\n",
    "\n",
    "fig.add_vrect(x0 = 253, x1 = 257, fillcolor=\"seagreen\",\n",
    " opacity = 0.25, line_width=1, line_color=\"green\")\n",
    "\n",
    "\n",
    "# the max we chose\n",
    "fig.add_vrect(x0 = 42, x1 = 46, fillcolor=\"#FF681F\",\n",
    " opacity = 0.25, line_width=1, line_color=\"red\")\n",
    "fig.add_vrect(x0 = 66, x1 = 70, fillcolor=\"#FF681F\",\n",
    " opacity = 0.25, line_width=1, line_color=\"red\")\n",
    "fig.add_vrect(x0 = 130, x1 = 134, fillcolor=\"#FF681F\",\n",
    " opacity = 0.25, line_width=1, line_color=\"red\")\n",
    "fig.add_vrect(x0 = 156, x1 = 160, fillcolor=\"#FF681F\",\n",
    " opacity = 0.25, line_width=1, line_color=\"red\")\n",
    "fig.add_vrect(x0 = 174, x1 = 178, fillcolor=\"#FF681F\",\n",
    " opacity = 0.25, line_width=1, line_color=\"red\")\n",
    "fig.add_vrect(x0 = 184, x1 = 188, fillcolor=\"#FF681F\",\n",
    " opacity = 0.25, line_width=1, line_color=\"red\")\n",
    "fig.add_vrect(x0 = 236, x1 = 240, fillcolor=\"#FF681F\",\n",
    " opacity = 0.25, line_width=1, line_color=\"red\")\n",
    "fig.add_vrect(x0 = 261, x1 = 265, fillcolor=\"#FF681F\",\n",
    " opacity = 0.25, line_width=1, line_color=\"red\")\n",
    "\n",
    "\n",
    "\n",
    "# NOTE Add legend pliz\n",
    "# it's ugly, but I'm thinking of adding a \"false trace\"\n",
    "# that doesn't hold any information but that can be used \n",
    "# for a legend. To do that I am using plotly graph objects!\n",
    "# And I create the trace as a Bar for the square shape\n",
    "# of the legend element.\n",
    "fig.add_trace(go.Bar(x=[np.nan], y=[np.nan], \n",
    "                     marker_color = '#2E8B57',\n",
    "                     opacity = 0.25, name = \"Low areas\"))\n",
    "fig.add_trace(go.Bar(x=[np.nan], y=[np.nan], \n",
    "                     marker_color = '#FF681F', \n",
    "                     opacity = 0.25, name = \"High areas\"))\n",
    "\n",
    "fig.show()\n",
    "make_image(fig, \"rmsf_plot\")"
   ]
  },
  {
   "cell_type": "code",
   "execution_count": null,
   "metadata": {},
   "outputs": [],
   "source": [
    "print(f\"RMSF values of residues involved in the rim domain.\\n E171: {round(data[171],2)}, D189: {round(data[189],2)}, D191: {round(data[191],2)}\")\n",
    "\n",
    "# analisi che vorrei fare, dire tipo quanti aminoacidi si muovono più di un certo treshold sul totale.\n",
    "# giusto per dire \"la proteina si muove poco in generale, solo il X% dei residui si muove più di 2 angstrom\"\n",
    "j = 2\n",
    "print(f\"Only {round(sum(data > j) / len(data),2)}% of the protein resiudes moves more than {j} Å.\")"
   ]
  },
  {
   "cell_type": "code",
   "execution_count": null,
   "metadata": {},
   "outputs": [],
   "source": [
    "# Some descriptive statistics of the RMSF data\n",
    "pd.DataFrame(data).describe()"
   ]
  },
  {
   "cell_type": "code",
   "execution_count": null,
   "metadata": {},
   "outputs": [],
   "source": [
    "# A look at some of the max and min regions in the graph\n",
    "print(np.argmax(data[15:-5]) + 15, data[130:134]) # 132: 130 - 134\n",
    "print(np.argmin(data), data[253:257])             # 255: 253 - 257"
   ]
  },
  {
   "cell_type": "markdown",
   "metadata": {},
   "source": [
    "Here we wanted to exploit the RMSF data to find some atoms that were far apart and that moved a little during the simulation (low RMSF values), in order to use them in the analysis to check the angle of the protein with the z axis."
   ]
  },
  {
   "cell_type": "code",
   "execution_count": null,
   "metadata": {},
   "outputs": [],
   "source": [
    "# argmin in some subregions that had low values from the graph\n",
    "print(np.argmin(data[0:40]))\n",
    "print(np.argmin(data[260:300])+260)\n",
    "#39 and 272\n",
    "\n",
    "# to check the atom id to use in GROMACS\n",
    "print(lukG_al.residues[39].atoms.select_atoms(\"name CA\"))\n",
    "print(lukG_al.residues[272].atoms.select_atoms(\"name CA\"))\n"
   ]
  },
  {
   "cell_type": "code",
   "execution_count": null,
   "metadata": {},
   "outputs": [],
   "source": [
    "# Compute the beta factor \n",
    "lukG_pdb = simdir / \"LukG_AF2.pdb\"\n",
    "pdb_universe = mda.Universe(str(lukG_pdb))\n",
    "ca_atoms_pdb = pdb_universe.select_atoms(\"protein and name CA\")\n",
    "#ix (index) -> unique code of the atom\n",
    "betas = pdb_universe._topology.tempfactors.values[ca_atoms_pdb._ix]"
   ]
  },
  {
   "cell_type": "code",
   "execution_count": null,
   "metadata": {
    "scrolled": false
   },
   "outputs": [],
   "source": [
    "fig = make_subplots(specs = [[{\"secondary_y\" : True}]])\n",
    "\n",
    "fig.add_trace(go.Scatter(y = -betas, name = \"RMSF\",\n",
    "                         line = {'color':'red', 'width':2}),\n",
    "             secondary_y=True)\n",
    "\n",
    "fig.add_trace(go.Scatter(y = myRMSF.results.rmsf, name = \"B-Factor\",\n",
    "                        line = {'color':'blue'}), secondary_y = False)\n",
    "\n",
    "fig.update_layout(\n",
    "    title={'text':\"RMSF vs. Experimental Beta Factor\",\n",
    "        'x':0.5,\n",
    "        'y':0.88,\n",
    "        'xanchor':'center',\n",
    "        'yanchor':'top'},\n",
    "    xaxis_title = \"Residue index\",\n",
    "    yaxis_title = \"$\\\\beta$\")\n",
    "\n",
    "fig.update_yaxes(title_text = \"RMSF value [Å]\", secondary_y=False)\n",
    "fig.update_yaxes(title_text = \"B-Factor\", secondary_y=True)\n",
    "\n",
    "fig.show()\n",
    "make_image(fig, \"rmsf_beta_plot\")"
   ]
  },
  {
   "cell_type": "markdown",
   "metadata": {},
   "source": [
    "### Contact map"
   ]
  },
  {
   "cell_type": "code",
   "execution_count": null,
   "metadata": {},
   "outputs": [],
   "source": [
    "ref = mda.Universe(str(lukG_GRO), str(lukG_XTC_al))\n",
    "Ca = ref.select_atoms('name CA')\n",
    "d_CaCa = distances.distance_array(Ca.positions, Ca.positions)"
   ]
  },
  {
   "cell_type": "code",
   "execution_count": null,
   "metadata": {},
   "outputs": [],
   "source": [
    "fig = px.imshow(d_CaCa)\n",
    "\n",
    "fig.update_layout(\n",
    "    title={\n",
    "        'text':\"Contact Map\",\n",
    "        'x':0.5,\n",
    "        'y':0.95,\n",
    "        'xanchor':'center',\n",
    "        'yanchor':'top'\n",
    "    },\n",
    "    xaxis_title = \"Residue index\", yaxis_title= \"Residue index\")\n",
    "\n",
    "fig.show()\n",
    "make_image(fig, \"contact_map\")"
   ]
  },
  {
   "cell_type": "markdown",
   "metadata": {},
   "source": [
    "### Radius of gyration"
   ]
  },
  {
   "cell_type": "code",
   "execution_count": null,
   "metadata": {},
   "outputs": [],
   "source": [
    "# If data doesn't exist, compute it, otherwise load it\n",
    "if not (simdir / \"rgyr.data\").exists():\n",
    "    # remeber we loaded\n",
    "    lukG_al = mda.Universe(str(lukG_GRO), str(lukG_XTC_al))\n",
    "    ca_atoms = lukG_al.select_atoms(\"protein and name CA\")\n",
    "\n",
    "    Rgyr = []\n",
    "    for ts in lukG_al.trajectory:\n",
    "        Rgyr.append(ca_atoms.radius_of_gyration())\n",
    "    \n",
    "    with open(\"../results/rgyr.data\", \"wb\") as outfile:\n",
    "        pickle.dump(Rgyr, outfile)\n",
    "else:\n",
    "    with open(\"../results/rgyr.data\", \"rb\") as infile:\n",
    "        Rgyr = pickle.load(infile)"
   ]
  },
  {
   "cell_type": "code",
   "execution_count": null,
   "metadata": {},
   "outputs": [],
   "source": [
    "fig = px.line(Rgyr)\n",
    "\n",
    "fig.update_layout(title={'text':\"Radius of Gyration plot\",\n",
    "                         'x':0.5,\n",
    "                         'y':0.95,\n",
    "                         'xanchor':'center',\n",
    "                         'yanchor':'top'},\n",
    "                  xaxis_title = \"Frame number\",\n",
    "                  yaxis_title = \"Radius of Gyration [Å]\",\n",
    "                  showlegend = False)\n",
    "\n",
    "fig.show()\n",
    "make_image(fig, \"radius_gyration_plot\")"
   ]
  },
  {
   "cell_type": "markdown",
   "metadata": {},
   "source": [
    "### Free energy Ramachandran plot"
   ]
  },
  {
   "cell_type": "markdown",
   "metadata": {},
   "source": [
    "We computed the Ramachandran angles throughout the simulation with GROMACS, and then we plotted it by counting the number of times we saw a certain angle in the resulting file. <br>\n",
    "We used the command: <br>\n",
    "```gmx rama -f trj.xtc -s trj.tmp -o rama_output.xvg```"
   ]
  },
  {
   "cell_type": "code",
   "execution_count": null,
   "metadata": {},
   "outputs": [],
   "source": [
    "# Load data from gromacs files\n",
    "phi = np.genfromtxt(rdir / \"rama_output.xvg\", usecols=0, skip_header=34)+180\n",
    "psi = np.genfromtxt(rdir / \"rama_output.xvg\", usecols=1, skip_header=34)+180"
   ]
  },
  {
   "cell_type": "code",
   "execution_count": null,
   "metadata": {},
   "outputs": [],
   "source": [
    "# Create an empty matrix \n",
    "rama_matrix = np.zeros((361, 361))\n",
    "\n",
    "# Count the occurrencies and populate the matrix\n",
    "for f in range(0,len(phi), 306):\n",
    "    for res in range(f, f+306):\n",
    "        phi_rounded = int(round(phi[res]))\n",
    "        psi_rounded = int(round(psi[res]))\n",
    "        rama_matrix[psi_rounded-1,phi_rounded-1] +=1\n",
    "        "
   ]
  },
  {
   "cell_type": "code",
   "execution_count": null,
   "metadata": {},
   "outputs": [],
   "source": [
    "rama_df = pd.DataFrame(rama_matrix)\n",
    "rama_df.columns = range(-180, 181)\n",
    "rama_df.index = range(-180, 181)\n",
    "\n",
    "rama_df.sort_index(axis=0, level=None, ascending=False, inplace=True)"
   ]
  },
  {
   "cell_type": "code",
   "execution_count": null,
   "metadata": {},
   "outputs": [],
   "source": [
    "# Plot the resulting matrix as heatmap\n",
    "# origin = '', sets which data to put in the origin\n",
    "ax_rama = px.imshow(rama_df, origin='lower', color_continuous_scale='RdBu_r')\n",
    "\n",
    "ax_rama.update_layout(title={'text':\"Ramachandran Map\",\n",
    "                             'x':0.5,\n",
    "                             'y':0.95,\n",
    "                             'xanchor':'center',\n",
    "                             'yanchor':'top'},\n",
    "                      xaxis_title = \"$\\\\phi \\ [°]$\",\n",
    "                      yaxis_title = \"$\\\\psi \\ [°]$\",\n",
    "                      width = 800,\n",
    "                      height = 800)\n",
    "\n",
    "ax_rama.show()\n",
    "make_image(ax_rama, \"ramachandran_plot\")"
   ]
  },
  {
   "cell_type": "markdown",
   "metadata": {},
   "source": [
    "### Analysis of protein-membrane distance\n",
    "Here we look at the distance on the z-axis between the center of mass of all the POPC residues and that of the protein.<br>\n",
    "Note: This was made with the aligned trajectory."
   ]
  },
  {
   "cell_type": "code",
   "execution_count": null,
   "metadata": {},
   "outputs": [],
   "source": [
    "# For each frame in the trajectory,\n",
    "# write to a file the distance between the centers of mass of\n",
    "# the protein and all the POPC residues\n",
    "if not (simdir / \"protein-membrane_distance.csv\").exists():\n",
    "    with open(simdir / \"protein-membrane_distance.csv\", \"w\") as outfile:\n",
    "        for ts in lukG.trajectory[:]:\n",
    "            cpop = lukG.select_atoms(\"resname POPC\").center_of_mass()\n",
    "            cpro = lukG.select_atoms(\"protein\").center_of_mass()\n",
    "            outfile.write( \",\".join(str(cpro - cpop)[1:-1].split()) + \"\\n\")\n",
    "else:\n",
    "    print(\"File already exists, no need to recompute.\")"
   ]
  },
  {
   "cell_type": "code",
   "execution_count": null,
   "metadata": {},
   "outputs": [],
   "source": [
    "# load the previous file\n",
    "difference_df = pd.read_csv(simdir / \"protein-membrane_distance.csv\", header = None)\n",
    "\n",
    "fig = px.line(y = difference_df.iloc[:, 2])\n",
    "\n",
    "fig.update_layout(title={'text':\"<b>Protein-membrane distance with MDA</b>\",\n",
    "                         'x':0.5,\n",
    "                         'y':0.95,\n",
    "                         'xanchor':'center',\n",
    "                         'yanchor':'top'},\n",
    "                  xaxis_title = \"Frame number\",\n",
    "                  yaxis_title = \"Distance [Å]\")\n",
    "\n",
    "fig.show()\n",
    "make_image(fig, \"protein_membrane_distance_mda\")"
   ]
  },
  {
   "cell_type": "markdown",
   "metadata": {},
   "source": [
    "This is the result of the GROMACS <i>mindist</i> function between all the atoms of the protein and all the atoms of the POPC lipids."
   ]
  },
  {
   "cell_type": "code",
   "execution_count": null,
   "metadata": {
    "scrolled": false
   },
   "outputs": [],
   "source": [
    "# mindist\n",
    "mindist = np.genfromtxt(rdir / \"mindist/mindist.xvg\", usecols = (0,1), skip_header = 24)\n",
    "\n",
    "fig = px.line(y = mindist[:,1])\n",
    "\n",
    "fig.update_layout(title={'text':\"<b>Protein-POPC atoms mindistance<b>\",\n",
    "                         'x':0.5,\n",
    "                         'y':0.95,\n",
    "                         'xanchor':'center',\n",
    "                         'yanchor':'top'},\n",
    "                  xaxis_title = \"Frame number\",\n",
    "                  yaxis_title = \"Distance [Å]\")\n",
    "\n",
    "fig.show()\n",
    "make_image(fig, \"protein_membrane_distance_gmx\")"
   ]
  },
  {
   "cell_type": "markdown",
   "metadata": {},
   "source": [
    "### Analysis of the protein angle with the z-axis\n",
    "This analysis too was done in GROMACS with the <i>gangle</i> function, and here we load and plot the data for visualization."
   ]
  },
  {
   "cell_type": "code",
   "execution_count": null,
   "metadata": {},
   "outputs": [],
   "source": [
    "x = np.genfromtxt(rdir / \"angle_results.xvg\", usecols=0, skip_header=17)\n",
    "y = 180 - np.genfromtxt(rdir / \"angle_results.xvg\", usecols=1, skip_header=17)\n",
    "\n",
    "fig = px.line(y = y)\n",
    "\n",
    "fig.update_layout(title={'text':\"<b>Protein angle with respect to <i>z</i><b>\", # prima era \"protein orientation\"\n",
    "                         'x':0.5,\n",
    "                         'y':0.95,\n",
    "                         'xanchor':'center',\n",
    "                         'yanchor':'top'},\n",
    "                  xaxis_title = \"Frame number\",\n",
    "                  yaxis_title = \"Angle [degrees]\")\n",
    "\n",
    "fig.show()\n",
    "make_image(fig, \"protein_angle\")"
   ]
  },
  {
   "cell_type": "code",
   "execution_count": null,
   "metadata": {},
   "outputs": [],
   "source": [
    "# maximum value\n",
    "print(f\"Maximum value of {np.argmax(y)} reached at frame {y[np.argmax(y)]}\")\n",
    "\n",
    "# mean in the last 500 frames\n",
    "print(f\"The mean value in the last 500 frames is of {round(np.mean(y[5500:]),3)}\")"
   ]
  },
  {
   "cell_type": "markdown",
   "metadata": {},
   "source": [
    "These following blocks were used to understand how much the `z` parameter of the center of mass of all the POPC lipids was moving during the simulation. We were wondering if it would be best to compute the protein distance as the one between the \"punctual\" `z` value of the POP resiudes, or as the one between the average value of POPC height during the simulation."
   ]
  },
  {
   "cell_type": "code",
   "execution_count": null,
   "metadata": {},
   "outputs": [],
   "source": [
    "if not (simdir / \"comparison.pickle\").exists():\n",
    "    lukG_al = mda.Universe(str(lukG_GRO), str(lukG_XTC_al))\n",
    "    popz = []\n",
    "    proz = []\n",
    "    for ts in lukG.trajectory[:]:\n",
    "        popz.append(lukG.select_atoms(\"resname POPC\").center_of_mass()[2])\n",
    "        proz.append(lukG.select_atoms(\"protein\").center_of_mass()[2])\n",
    "       \n",
    "    data = [np.array(popz), np.array(proz)]\n",
    "\n",
    "    with open(simdir / \"comparison.pickle\", \"wb\") as outf:\n",
    "        pickle.dump(data, outf)\n",
    "else:\n",
    "    with open(simdir / \"comparison.pickle\", \"rb\") as infile:\n",
    "        data = pickle.load(infile)"
   ]
  },
  {
   "cell_type": "code",
   "execution_count": null,
   "metadata": {
    "scrolled": false
   },
   "outputs": [],
   "source": [
    "diffz = difference_df.iloc[:, 2]\n",
    "popz = data[0]\n",
    "proz = data[1]\n",
    "\n",
    "fig = go.Figure()\n",
    "fig.add_trace(go.Line(y = popz, name = 'popc z'))  # z of POPC COM\n",
    "fig.add_trace(go.Line(y = proz, name = 'prot z'))  # z of Prot COM\n",
    "fig.add_trace(go.Line(y = diffz, name = 'diff z')) # z of difference\n",
    "#fig.add_trace(go.Line(y = (proz - popz), name = 'comp diff'))\n",
    "\n",
    "# add a line on the mean of the z of POPC residues\n",
    "fig.add_hline(y = np.mean(popz))\n",
    "\n",
    "# distance from mean of popc\n",
    "fig.add_trace(go.Line(y = (proz - np.mean(popz)), name = 'diff prot to mean popc')) # z of difference\n",
    "\n",
    "fig.update_layout(title={'text':\"Protein-membrane distance from POPC by frame and by average\",\n",
    "                         'x':0.5,\n",
    "                         'xanchor':'center',\n",
    "                         'yanchor':'top'},\n",
    "                  xaxis_title = \"Frame number\",\n",
    "                  yaxis_title = \"z-value of CoM\")\n",
    "\n",
    "\n",
    "fig.show()\n",
    "\n",
    "make_image(fig, \"distance_difference\")"
   ]
  },
  {
   "cell_type": "markdown",
   "metadata": {},
   "source": [
    "So, in the graph we have:\n",
    "- In RED we have the z component of the center of mass of the protein\n",
    "- In BLUE the z component of the center of mass of all the POPC lipids\n",
    "- In GREEN the difference between the two z at each frame\n",
    "- In VIOLET the difference between the z of the protein in every frame and the mean z of the POPC in the whole simulation"
   ]
  }
 ],
 "metadata": {
  "kernelspec": {
   "display_name": "Python 3 (ipykernel)",
   "language": "python",
   "name": "python3"
  },
  "language_info": {
   "codemirror_mode": {
    "name": "ipython",
    "version": 3
   },
   "file_extension": ".py",
   "mimetype": "text/x-python",
   "name": "python",
   "nbconvert_exporter": "python",
   "pygments_lexer": "ipython3",
   "version": "3.11.4"
  },
  "vscode": {
   "interpreter": {
    "hash": "97dac3c2a0c7ac98c84be92ceed0e57448e76da8a094e240c11bc870dfcc34a7"
   }
  },
  "widgets": {
   "application/vnd.jupyter.widget-state+json": {
    "state": {
     "cdc8c659600048669883aa90ecbeee64": {
      "model_module": "@jupyter-widgets/base",
      "model_module_version": "2.0.0",
      "model_name": "LayoutModel",
      "state": {}
     },
     "d633552835044b359b424adb0d187cf3": {
      "model_module": "nglview-js-widgets",
      "model_module_version": "3.0.1",
      "model_name": "ColormakerRegistryModel",
      "state": {
       "_msg_ar": [],
       "_msg_q": [],
       "_ready": false,
       "layout": "IPY_MODEL_cdc8c659600048669883aa90ecbeee64"
      }
     }
    },
    "version_major": 2,
    "version_minor": 0
   }
  }
 },
 "nbformat": 4,
 "nbformat_minor": 2
}
